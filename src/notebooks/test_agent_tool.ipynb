{
 "cells": [
  {
   "cell_type": "code",
   "execution_count": null,
   "metadata": {},
   "outputs": [
    {
     "name": "stdout",
     "output_type": "stream",
     "text": [
      "The autoreload extension is already loaded. To reload it, use:\n",
      "  %reload_ext autoreload\n"
     ]
    }
   ],
   "source": [
    "%load_ext autoreload\n",
    "%autoreload 2"
   ]
  },
  {
   "cell_type": "code",
   "execution_count": null,
   "metadata": {},
   "outputs": [],
   "source": [
    "from camel.models import ModelFactory\n",
    "from camel.types import ModelPlatformType, ModelType\n",
    "\n",
    "from oasis import ActionType\n",
    "from oasis.social_agent.agent import SocialAgent\n",
    "from oasis.social_platform.config import UserInfo"
   ]
  },
  {
   "cell_type": "code",
   "execution_count": null,
   "metadata": {},
   "outputs": [],
   "source": [
    "user_info = UserInfo(name=\"test\", description=\"no description\", profile=\"no profile\")\n",
    "models = [\n",
    "    ModelFactory.create(\n",
    "        model_platform=ModelPlatformType.ZHIPU,\n",
    "        model_type=ModelType.GLM_4_FLASH,\n",
    "    )\n",
    "]\n",
    "agent = SocialAgent(\n",
    "    agent_id=0,\n",
    "    user_info=user_info,\n",
    "    model=models,\n",
    "    available_actions=[ActionType.CREATE_POST, ActionType.LIKE_POST, ActionType.REPOST, ActionType.FOLLOW],\n",
    "    single_iteration=False,\n",
    ")"
   ]
  },
  {
   "cell_type": "code",
   "execution_count": null,
   "metadata": {},
   "outputs": [
    {
     "name": "stdout",
     "output_type": "stream",
     "text": [
      "2025-06-08 15:11:44,018 - social.agent - INFO - Agent 0: [{'role': 'system', 'content': \"\\n# OBJECTIVE\\nYou're a Twitter user, and I'll present you with some posts. After you see the posts, choose some actions from the following functions.\\n\\n# SELF-DESCRIPTION\\nYour actions should be consistent with your self-description and personality.\\nYour name is test.\\n\\n# RESPONSE METHOD\\nPlease perform actions by tool calling.\\n        \"}, {'role': 'system', 'content': \"\\n# OBJECTIVE\\nYou're a Twitter user, and I'll present you with some posts. After you see the posts, choose some actions from the following functions.\\n\\n# SELF-DESCRIPTION\\nYour actions should be consistent with your self-description and personality.\\nYour name is test.\\n\\n# RESPONSE METHOD\\nPlease perform actions by tool calling.\\n        \"}, {'role': 'user', 'content': 'Please create a post with the following content: Hello, world!'}]\n",
      "2025-06-08 15:11:44,020 - social.agent - INFO - Agent 0: tool_schemas=[{'type': 'function', 'function': {'name': 'create_post', 'description': 'Create a new post with the given content.\\nThis method invokes an asynchronous action to create a new post based\\non the provided content. Upon successful execution, it returns a\\ndictionary indicating success and the ID of the newly created post.', 'strict': True, 'parameters': {'properties': {'content': {'type': 'string', 'description': 'The content of the post to be created.'}}, 'required': ['content'], 'type': 'object', 'additionalProperties': False}}}, {'type': 'function', 'function': {'name': 'like_post', 'description': 'Create a new like for a specified post.\\nThis method invokes an asynchronous action to create a new like for a\\npost. It is identified by the given post ID. Upon successful\\nexecution, it returns a dictionary indicating success and the ID of\\nthe newly created like.', 'strict': True, 'parameters': {'properties': {'post_id': {'type': 'integer', 'description': 'The ID of the post to be liked.'}}, 'required': ['post_id'], 'type': 'object', 'additionalProperties': False}}}, {'type': 'function', 'function': {'name': 'repost', 'description': 'Repost a specified post.\\nThis method invokes an asynchronous action to Repost a specified\\npost. It is identified by the given post ID. Upon successful\\nexecution, it returns a dictionary indicating success and the ID of\\nthe newly created repost.', 'strict': True, 'parameters': {'properties': {'post_id': {'type': 'integer', 'description': 'The ID of the post to be reposted.'}}, 'required': ['post_id'], 'type': 'object', 'additionalProperties': False}}}, {'type': 'function', 'function': {'name': 'follow', 'description': 'Follow a user.\\nThis method allows agent to follow another user (followee).\\nIt checks if the agent initiating the follow request has a\\ncorresponding user ID and if the follow relationship already exists.', 'strict': True, 'parameters': {'properties': {'followee_id': {'type': 'integer', 'description': 'The user ID of the user to be followed.'}}, 'required': ['followee_id'], 'type': 'object', 'additionalProperties': False}}}]\n",
      "2025-06-08 15:11:45,233 - social.agent - INFO - Agent 0 receive response=ModelResponse(response=ChatCompletion(id='20250608151144bad9e97dd4cd4e99', choices=[Choice(finish_reason='tool_calls', index=0, logprobs=None, message=ChatCompletionMessage(content=None, refusal=None, role='assistant', annotations=None, audio=None, function_call=None, tool_calls=[ChatCompletionMessageToolCall(id='call_-8636845907042947483', function=Function(arguments='{\"content\": \"Hello, world!\"}', name='create_post'), type='function', index=0)]))], created=1749366705, model='glm-4-flash', object=None, service_tier=None, system_fingerprint=None, usage=CompletionUsage(completion_tokens=13, prompt_tokens=747, total_tokens=760, completion_tokens_details=None, prompt_tokens_details=None), request_id='20250608151144bad9e97dd4cd4e99'), tool_call_requests=[ToolCallRequest(tool_name='create_post', args={'content': 'Hello, world!'}, tool_call_id='call_-8636845907042947483')], output_messages=[BaseMessage(role_name='system', role_type=<RoleType.ASSISTANT: 'assistant'>, meta_dict={}, content='', video_bytes=None, image_list=None, image_detail='auto', video_detail='low', parsed=None)], finish_reasons=['tool_calls'], usage_dict={'completion_tokens': 13, 'prompt_tokens': 747, 'total_tokens': 760, 'completion_tokens_details': None, 'prompt_tokens_details': None}, response_id='20250608151144bad9e97dd4cd4e99')\n"
     ]
    }
   ],
   "source": [
    "test_resp = await agent.perform_test()"
   ]
  }
 ],
 "metadata": {
  "kernelspec": {
   "display_name": "Python 3",
   "language": "python",
   "name": "python3"
  },
  "language_info": {
   "codemirror_mode": {
    "name": "ipython",
    "version": 3
   },
   "file_extension": ".py",
   "mimetype": "text/x-python",
   "name": "python",
   "nbconvert_exporter": "python",
   "pygments_lexer": "ipython3",
   "version": "3.11.12"
  }
 },
 "nbformat": 4,
 "nbformat_minor": 2
}
